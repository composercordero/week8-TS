{
 "cells": [
  {
   "cell_type": "markdown",
   "id": "3a4711e9",
   "metadata": {},
   "source": [
    "<a id=\"hw\"></a>\n",
    "\n",
    "# Homework"
   ]
  },
  {
   "cell_type": "markdown",
   "id": "4d47fea9",
   "metadata": {},
   "source": [
    "#### Question #1"
   ]
  },
  {
   "cell_type": "markdown",
   "id": "a9e8d7cb",
   "metadata": {},
   "source": [
    "Create a type to represent the following instances of `CTStudent` Also declare three 3 students below as type `CTStudent` and set their values\n",
    "\n",
    "```\n",
    "let student1 = {\n",
    "    id: 'GMK435&g62L00',\n",
    "    name: 'John Smith',\n",
    "    age: 24,\n",
    "    isTired: true,\n",
    "    projectsCompleted:[\"HTML Portfolio\", \"Fakebook\", \"Pokemon API Project\", \"Weather Bug\"],\n",
    "    pet: 'dog'\n",
    "}\n",
    "\n",
    "let student2= {\n",
    "    id: '6KGS%54GmlY76',\n",
    "    name: 'Jenny Hawthorne',\n",
    "    age: 28,\n",
    "    isTired: false,\n",
    "    projectsCompleted:[\"HTML Portfolio\"],\n",
    "}\n",
    "\n",
    "let student3 = {\n",
    "    id: '6KGS%54GmlY76',\n",
    "    name: 'Neo',\n",
    "    age: 57,\n",
    "    isTired: true,\n",
    "    projectsCompleted:[\"Matrix\",\"Biological Interface Program\"],\n",
    "    pet:'cat'\n",
    "}\n",
    "```"
   ]
  },
  {
   "cell_type": "code",
   "execution_count": 89,
   "id": "c73d5ef8",
   "metadata": {},
   "outputs": [
    {
     "name": "stdout",
     "output_type": "stream",
     "text": [
      "{\n",
      "  id: \u001b[32m'GMK435&g62L00'\u001b[39m,\n",
      "  name: \u001b[32m'John Smith'\u001b[39m,\n",
      "  age: \u001b[33m24\u001b[39m,\n",
      "  isTired: \u001b[33mtrue\u001b[39m,\n",
      "  projectsCompleted: [\n",
      "    \u001b[32m'HTML Portfolio'\u001b[39m,\n",
      "    \u001b[32m'Fakebook'\u001b[39m,\n",
      "    \u001b[32m'Pokemon API Project'\u001b[39m,\n",
      "    \u001b[32m'Weather Bug'\u001b[39m\n",
      "  ],\n",
      "  pet: \u001b[32m'dog'\u001b[39m\n",
      "}\n",
      "{\n",
      "  id: \u001b[32m'6KGS%54GmlY76'\u001b[39m,\n",
      "  name: \u001b[32m'Jenny Hawthorne'\u001b[39m,\n",
      "  age: \u001b[33m28\u001b[39m,\n",
      "  isTired: \u001b[33mfalse\u001b[39m,\n",
      "  projectsCompleted: [ \u001b[32m'HTML Portfolio'\u001b[39m ]\n",
      "}\n",
      "{\n",
      "  id: \u001b[32m'6KGS%54GmlY76'\u001b[39m,\n",
      "  name: \u001b[32m'Neo'\u001b[39m,\n",
      "  age: \u001b[33m57\u001b[39m,\n",
      "  isTired: \u001b[33mtrue\u001b[39m,\n",
      "  projectsCompleted: [ \u001b[32m'Matrix'\u001b[39m, \u001b[32m'Biological Interface Program'\u001b[39m ],\n",
      "  pet: \u001b[32m'cat'\u001b[39m\n",
      "}\n"
     ]
    }
   ],
   "source": [
    "type CTStudent = {\n",
    "    id: string,\n",
    "    name: string,\n",
    "    age: number,\n",
    "    isTired: boolean,\n",
    "    projectsCompleted:string[],\n",
    "    pet?:string\n",
    "}\n",
    "\n",
    "let student1:CTStudent = {\n",
    "    id: 'GMK435&g62L00',\n",
    "    name: 'John Smith',\n",
    "    age: 24,\n",
    "    isTired: true,\n",
    "    projectsCompleted:[\"HTML Portfolio\", \"Fakebook\", \"Pokemon API Project\", \"Weather Bug\"],\n",
    "    pet: 'dog'\n",
    "}\n",
    "\n",
    "let student2:CTStudent = {\n",
    "    id: '6KGS%54GmlY76',\n",
    "    name: 'Jenny Hawthorne',\n",
    "    age: 28,\n",
    "    isTired: false,\n",
    "    projectsCompleted:[\"HTML Portfolio\"],\n",
    "}\n",
    "\n",
    "let student3:CTStudent = {\n",
    "    id: '6KGS%54GmlY76',\n",
    "    name: 'Neo',\n",
    "    age: 57,\n",
    "    isTired: true,\n",
    "    projectsCompleted:[\"Matrix\",\"Biological Interface Program\"],\n",
    "    pet:'cat'\n",
    "}\n",
    "\n",
    "console.log(student1);\n",
    "console.log(student2);\n",
    "console.log(student3);"
   ]
  },
  {
   "cell_type": "markdown",
   "id": "4f55579f",
   "metadata": {},
   "source": [
    "#### Question #2"
   ]
  },
  {
   "cell_type": "markdown",
   "id": "3b36ab99",
   "metadata": {},
   "source": [
    "Write a function that will accept a an object of type `Fruit`, the object of type Fruit could also be `null`.  If there is a Fruit print the color of the fruit, otherwise print `You ate my fruit already` be sure to annoate the return type of the function"
   ]
  },
  {
   "cell_type": "code",
   "execution_count": 124,
   "id": "d0723c22",
   "metadata": {
    "scrolled": true
   },
   "outputs": [
    {
     "name": "stdout",
     "output_type": "stream",
     "text": [
      "red\n",
      "You are my fruit already\n"
     ]
    }
   ],
   "source": [
    "//Given\n",
    "type Fruit={\n",
    "    color:string,\n",
    "    shape:string\n",
    "}\n",
    "\n",
    "let apple:Fruit={color:\"red\", shape:\"sphere\"}\n",
    "let eaten:Fruit=null\n",
    "\n",
    "//Answer\n",
    "\n",
    "function eatingFruit(fruit:unknown):string{\n",
    "    if(fruit){\n",
    "        return fruit['color'];\n",
    "    }else{\n",
    "        return 'You are my fruit already';\n",
    "    };\n",
    "};\n",
    "\n",
    "console.log(eatingFruit(apple));\n",
    "console.log(eatingFruit(eaten));"
   ]
  },
  {
   "cell_type": "markdown",
   "id": "c779e6ce",
   "metadata": {},
   "source": [
    "#### Question #3"
   ]
  },
  {
   "cell_type": "markdown",
   "id": "754ad305",
   "metadata": {},
   "source": [
    "Create a Union Type named `Ebook` for `Book` and `DigitalBook` and create one instance of the new union type"
   ]
  },
  {
   "cell_type": "code",
   "execution_count": 129,
   "id": "a2fe8468",
   "metadata": {},
   "outputs": [
    {
     "name": "stdout",
     "output_type": "stream",
     "text": [
      "{\n",
      "  isbn: \u001b[32m'isbn'\u001b[39m,\n",
      "  title: \u001b[32m'Harry Potter Goes to Coding Temple'\u001b[39m,\n",
      "  author: \u001b[32m'Carlos C.'\u001b[39m,\n",
      "  fileType: \u001b[32m'PDF'\u001b[39m\n",
      "}\n",
      "{\n",
      "  isbn: \u001b[32m'isbn2'\u001b[39m,\n",
      "  title: \u001b[32m'Harry Potter Gets a Coding Job'\u001b[39m,\n",
      "  author: \u001b[32m'Carlos C.'\u001b[39m\n",
      "}\n"
     ]
    }
   ],
   "source": [
    "//Given \n",
    "type Book={\n",
    "    isbn:string,\n",
    "    title:string,\n",
    "    author:string\n",
    "}\n",
    "\n",
    "type DigitalBook={\n",
    "    fileType:string,\n",
    "}\n",
    "\n",
    "//Answer\n",
    "\n",
    "type Ebook = Book|DigitalBook\n",
    "\n",
    "let HarryPotter:Ebook = {\n",
    "    isbn: 'isbn',\n",
    "    title: 'Harry Potter Goes to Coding Temple',\n",
    "    author: 'Carlos C.',\n",
    "    fileType: 'PDF'\n",
    "}\n",
    "\n",
    "let HarryPotter2:Ebook = {\n",
    "    isbn: 'isbn2',\n",
    "    title: 'Harry Potter Gets a Coding Job',\n",
    "    author: 'Carlos C.',\n",
    "}\n",
    "\n",
    "console.log(HarryPotter)\n",
    "console.log(HarryPotter2)\n"
   ]
  },
  {
   "cell_type": "markdown",
   "id": "ff5b6cd0",
   "metadata": {},
   "source": [
    "#### Question #4"
   ]
  },
  {
   "cell_type": "markdown",
   "id": "2d47d040",
   "metadata": {},
   "source": [
    "Create a Type to represent a `ShopItem` that will fit the following rules. You may need to create additional structures\n",
    "\n",
    "- All ShopItems have an numeric id that can not be edited \n",
    "- All ShopItems have a price\n",
    "- All ShopItems have a description\n",
    "- Some ShopItems have a color\n",
    "- All ShopItems have a Category represented with an enum \n",
    "    - Possible Categories are `Shirts` `Shoes` `Pants` `Hats`\n",
    "- All ShopItems have a list of keywords used to help search for the ShopItem \n",
    "    - For Example A Ironman Tshirt may have keywords = [\"Marvel\", \"Endgame\", \"Ironman\",\"Character Tees\", \"Tony Stark\"]\n",
    "\n",
    "After Creating the `ShopItem` type create 3 items using this type"
   ]
  },
  {
   "cell_type": "code",
   "execution_count": 93,
   "id": "157b9a0d",
   "metadata": {
    "scrolled": false
   },
   "outputs": [
    {
     "name": "stdout",
     "output_type": "stream",
     "text": [
      "{\n",
      "  id: \u001b[33m1\u001b[39m,\n",
      "  price: \u001b[32m'$2.99'\u001b[39m,\n",
      "  description: \u001b[32m'For your head.'\u001b[39m,\n",
      "  color: \u001b[32m'Purple'\u001b[39m,\n",
      "  category: \u001b[33m3\u001b[39m,\n",
      "  keywords: [ \u001b[32m'Cuba'\u001b[39m, \u001b[32m'Venezuela'\u001b[39m, \u001b[32m'Puerto Rico'\u001b[39m ]\n",
      "}\n",
      "{\n",
      "  id: \u001b[33m2\u001b[39m,\n",
      "  price: \u001b[32m'$10.99'\u001b[39m,\n",
      "  description: \u001b[32m'For your upper half.'\u001b[39m,\n",
      "  category: \u001b[33m0\u001b[39m,\n",
      "  keywords: [ \u001b[32m'Argentina'\u001b[39m, \u001b[32m'Venezuela'\u001b[39m, \u001b[32m'Peru'\u001b[39m, \u001b[32m'Puerto Rico'\u001b[39m ]\n",
      "}\n",
      "{\n",
      "  id: \u001b[33m3\u001b[39m,\n",
      "  price: \u001b[32m'$15.99'\u001b[39m,\n",
      "  description: \u001b[32m'For your lower half.'\u001b[39m,\n",
      "  color: \u001b[32m'Negro'\u001b[39m,\n",
      "  category: \u001b[33m2\u001b[39m,\n",
      "  keywords: [ \u001b[32m'Argentina'\u001b[39m, \u001b[32m'Venezuela'\u001b[39m, \u001b[32m'Peru'\u001b[39m, \u001b[32m'México'\u001b[39m, \u001b[32m'Colombia'\u001b[39m ]\n",
      "}\n"
     ]
    }
   ],
   "source": [
    "enum Category{Shirts, Shoes, Pants, Hats};\n",
    "\n",
    "type ShopItem = {\n",
    "    readonly id: number,\n",
    "    price:number, // had it originally as a string but it is better practice to use it as a number\n",
    "    description:string,\n",
    "    color?:string,\n",
    "    category: Category,\n",
    "    keywords: string[],\n",
    "}\n",
    "\n",
    "\n",
    "let sombrero: ShopItem = {\n",
    "    id:1,\n",
    "    price:2.99,\n",
    "    description:'For your head.',\n",
    "    color: 'Purple',\n",
    "    category: Category.Hats,\n",
    "    keywords: ['Cuba', 'Venezuela', 'Puerto Rico']\n",
    "}\n",
    "\n",
    "console.log(sombrero)\n",
    "\n",
    "let camisa: ShopItem = {\n",
    "    id:2,\n",
    "    price:10.99,\n",
    "    description:'For your upper half.',\n",
    "    category: Category.Shirts,\n",
    "    keywords: ['Argentina', 'Venezuela', 'Peru', 'Puerto Rico']\n",
    "}\n",
    "\n",
    "console.log(camisa)\n",
    "\n",
    "\n",
    "let pantalon: ShopItem = {\n",
    "    id:3,\n",
    "    price:15.99,\n",
    "    description:'For your lower half.',\n",
    "    color: 'Negro',\n",
    "    category: Category.Pants,\n",
    "    keywords: ['Argentina', 'Venezuela', 'Peru', 'México', 'Colombia']\n",
    "}\n",
    "\n",
    "console.log(pantalon)"
   ]
  },
  {
   "cell_type": "code",
   "execution_count": 94,
   "id": "802301e6",
   "metadata": {},
   "outputs": [
    {
     "name": "stdout",
     "output_type": "stream",
     "text": [
      "{\n",
      "  id: \u001b[33m2\u001b[39m,\n",
      "  price: \u001b[32m'$10.99'\u001b[39m,\n",
      "  description: \u001b[32m'For your upper half.'\u001b[39m,\n",
      "  category: \u001b[33m0\u001b[39m,\n",
      "  keywords: [ \u001b[32m'Argentina'\u001b[39m, \u001b[32m'Venezuela'\u001b[39m, \u001b[32m'Peru'\u001b[39m, \u001b[32m'Puerto Rico'\u001b[39m ],\n",
      "  color: \u001b[32m'Verde'\u001b[39m\n",
      "}\n"
     ]
    }
   ],
   "source": [
    "camisa.color = 'Verde';\n",
    "console.log(camisa)"
   ]
  }
 ],
 "metadata": {
  "kernelspec": {
   "display_name": "TypeScript",
   "language": "typescript",
   "name": "tslab"
  },
  "language_info": {
   "codemirror_mode": {
    "mode": "typescript",
    "name": "javascript",
    "typescript": true
   },
   "file_extension": ".ts",
   "mimetype": "text/typescript",
   "name": "typescript",
   "version": "3.7.2"
  }
 },
 "nbformat": 4,
 "nbformat_minor": 5
}
